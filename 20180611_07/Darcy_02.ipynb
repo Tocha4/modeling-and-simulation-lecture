{
 "cells": [
  {
   "cell_type": "code",
   "execution_count": 11,
   "metadata": {},
   "outputs": [],
   "source": [
    "import numpy as np\n",
    "from matplotlib import pyplot as plt\n",
    "from mpl_toolkits.mplot3d import Axes3D\n",
    "%matplotlib inline"
   ]
  },
  {
   "cell_type": "code",
   "execution_count": 4,
   "metadata": {},
   "outputs": [],
   "source": [
    "def plot2D(x, y, p):\n",
    "    fig = plt.figure(figsize=(11, 7), dpi=100)\n",
    "    ax = fig.gca(projection='3d')\n",
    "    X, Y = np.meshgrid(x, y)\n",
    "    surf = ax.plot_surface(X, Y, p[:], rstride=1, cstride=1, cmap=cm.viridis,\n",
    "            linewidth=0, antialiased=False)\n",
    "    ax.view_init(30, 225)\n",
    "    ax.set_xlabel('$x$')\n",
    "    ax.set_ylabel('$y$')"
   ]
  },
  {
   "cell_type": "code",
   "execution_count": 243,
   "metadata": {},
   "outputs": [],
   "source": [
    "def velocities(u,v,rho,p,dx,dy,K,µ):\n",
    "    u = -K/µ*(p[:,-1]-p[:,0])/(2*dx)\n",
    "\n",
    "    v[1:-1,1:-1] = K/µ*(p[1:-1,2:]-p[1:-1,0:-2])/(2*dy)\n",
    "    \n",
    "    u[0,:] = u[1,:]\n",
    "    u[-1,:] = u[-2,:]\n",
    "    u[:,0] = u[:,1] \n",
    "    u[:,-1] = u[:,-2]\n",
    "    \n",
    "    v[0,:] = v[1,:]\n",
    "    v[-1,:] = v[-2,:]\n",
    "    v[:,0] = v[:,1] \n",
    "    v[:,-1] = v[:,-2]\n",
    "    \n",
    "    return u,v"
   ]
  },
  {
   "cell_type": "code",
   "execution_count": 57,
   "metadata": {},
   "outputs": [
    {
     "name": "stdout",
     "output_type": "stream",
     "text": [
      "1e-05\n"
     ]
    }
   ],
   "source": [
    "# Parameters\n",
    "nx = 50\n",
    "ny = 50\n",
    "nt  = 100\n",
    "xmin = 0\n",
    "xmax = 2\n",
    "ymin = 0\n",
    "ymax = 1\n",
    "\n",
    "K = 1e-8\n",
    "µ = 0.001\n",
    "print(K/µ)\n",
    "\n",
    "dx = (xmax - xmin) / (nx - 1)\n",
    "dy = (ymax - ymin) / (ny - 1)\n",
    "\n",
    "# Initialization\n",
    "dp = 0.8\n",
    "rho  = np.zeros((ny, nx))\n",
    "rho[:,:10] = 1\n",
    "rho[0,:20] = 1\n",
    "x  = np.linspace(xmin, xmax, nx)\n",
    "y  = np.linspace(xmin, xmax, ny)\n",
    "u = np.zeros((ny,nx))\n",
    "v = np.zeros((ny,nx))\n",
    "p = np.zeros((ny,nx))\n",
    "p[:,0] = 800\n",
    "p[:,-1] = 0"
   ]
  },
  {
   "cell_type": "code",
   "execution_count": 59,
   "metadata": {},
   "outputs": [
    {
     "data": {
      "text/plain": [
       "array([[-0.0004, -0.0008, -0.0008, -0.0008, -0.0008, -0.0008, -0.0008,\n",
       "        -0.0008, -0.0008, -0.0008, -0.0008, -0.0008, -0.0008, -0.0008,\n",
       "        -0.0008, -0.0008, -0.0008, -0.0008, -0.0008, -0.0008, -0.0008,\n",
       "        -0.0008, -0.0008, -0.0008, -0.0008, -0.0008, -0.0008, -0.0008,\n",
       "        -0.0008, -0.0008, -0.0008, -0.0008, -0.0008, -0.0008, -0.0008,\n",
       "        -0.0008, -0.0008, -0.0008, -0.0008, -0.0008, -0.0008, -0.0008,\n",
       "        -0.0008, -0.0008, -0.0008, -0.0008, -0.0008, -0.0008, -0.0008,\n",
       "        -0.0008]])"
      ]
     },
     "execution_count": 59,
     "metadata": {},
     "output_type": "execute_result"
    },
    {
     "data": {
      "image/png": "[encoded data removed]",
      "text/plain": [
       "<matplotlib.figure.Figure at 0x7ff88819d748>"
      ]
     },
     "metadata": {},
     "output_type": "display_data"
    }
   ],
   "source": [
    "u_n = np.array([K/µ*(p[:,-1]-p[:,0])/np.sum(rho,axis=1)])\n",
    "u = np.repeat(u_n,(50),axis=1).reshape((50,50))\n",
    "plt.imshow(u)\n",
    "plt.colorbar()\n",
    "u_n"
   ]
  },
  {
   "cell_type": "code",
   "execution_count": 12,
   "metadata": {},
   "outputs": [
    {
     "data": {
      "text/plain": [
       "<matplotlib.image.AxesImage at 0x7ff88af2a8d0>"
      ]
     },
     "execution_count": 12,
     "metadata": {},
     "output_type": "execute_result"
    },
    {
     "data": {
      "image/png": "[encoded data removed]",
      "text/plain": [
       "<matplotlib.figure.Figure at 0x7ff88f40a668>"
      ]
     },
     "metadata": {},
     "output_type": "display_data"
    }
   ],
   "source": [
    "plt.imshow(rho)"
   ]
  },
  {
   "cell_type": "code",
   "execution_count": null,
   "metadata": {},
   "outputs": [],
   "source": []
  }
 ],
 "metadata": {
  "kernelspec": {
   "display_name": "Python 3",
   "language": "python",
   "name": "python3"
  },
  "language_info": {
   "codemirror_mode": {
    "name": "ipython",
    "version": 3
   },
   "file_extension": ".py",
   "mimetype": "text/x-python",
   "name": "python",
   "nbconvert_exporter": "python",
   "pygments_lexer": "ipython3",
   "version": "3.6.5"
  }
 },
 "nbformat": 4,
 "nbformat_minor": 2
}
