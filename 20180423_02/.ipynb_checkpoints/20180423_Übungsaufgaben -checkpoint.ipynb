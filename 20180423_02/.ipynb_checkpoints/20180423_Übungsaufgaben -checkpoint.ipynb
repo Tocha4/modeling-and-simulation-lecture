{
 "cells": [
  {
   "cell_type": "markdown",
   "metadata": {},
   "source": [
    "# Schleifen und Abzweigungen"
   ]
  },
  {
   "cell_type": "markdown",
   "metadata": {},
   "source": [
    "1\\. Erzeuge die folgende Ausgabe mit Hilfe von $for$-Schleifen."
   ]
  },
  {
   "cell_type": "code",
   "execution_count": 17,
   "metadata": {
    "hide_input": true
   },
   "outputs": [
    {
     "name": "stdout",
     "output_type": "stream",
     "text": [
      "* 1\n",
      "** 2\n",
      "*** 3\n",
      "**** 4\n",
      "***** 5\n",
      "****** 6\n",
      "***** 5\n",
      "**** 4\n",
      "*** 3\n",
      "** 2\n",
      "* 1\n"
     ]
    }
   ],
   "source": [
    "for i in range(1,7):\n",
    "    print('*'*i,i)\n",
    "    \n",
    "for i in [5,4,3,2,1]:\n",
    "    print('*'*i,i)"
   ]
  },
  {
   "cell_type": "markdown",
   "metadata": {},
   "source": [
    "2\\. Erzeuge die gleiche Ausgabe wie in 1. mit Hilfe von $while$-Schleifen."
   ]
  },
  {
   "cell_type": "code",
   "execution_count": 18,
   "metadata": {
    "hide_input": true
   },
   "outputs": [
    {
     "name": "stdout",
     "output_type": "stream",
     "text": [
      "* 1\n",
      "** 2\n",
      "*** 3\n",
      "**** 4\n",
      "***** 5\n",
      "****** 6\n",
      "***** 5\n",
      "**** 4\n",
      "*** 3\n",
      "** 2\n",
      "* 1\n"
     ]
    }
   ],
   "source": [
    "i = 1\n",
    "while i <= 5:\n",
    "    print('*'*i,i)\n",
    "    i += 1\n",
    "while i != 0:\n",
    "    print('*'*i,i)\n",
    "    i -= 1"
   ]
  },
  {
   "cell_type": "markdown",
   "metadata": {},
   "source": [
    "3\\. Schreiben ein Python-Programm, um eine Zahl zwischen 1 und 9 zu erraten.\n",
    "Hinweis:\n",
    "1. Benutze ein $while$-Schleife\n",
    "2. Mit $input()$ bekommst du deinen Schätzwert als String und mit $int()$ kannst du den String in eine Integer umwandeln."
   ]
  },
  {
   "cell_type": "code",
   "execution_count": 39,
   "metadata": {
    "hide_input": true
   },
   "outputs": [
    {
     "name": "stdout",
     "output_type": "stream",
     "text": [
      "Guess a number between 1 and 10 until you get it right : 1\n",
      "Guess a number between 1 and 10 until you get it right : 2\n",
      "Well guessed!\n"
     ]
    }
   ],
   "source": [
    "import numpy as np\n",
    "\n",
    "guess_num = 0\n",
    "target_num = np.random.randint(1,10)\n",
    "\n",
    "while target_num != guess_num:\n",
    "    guess_num = int(input('Guess a number between 1 and 10 until you get it right : '))\n",
    "print('Well guessed!')"
   ]
  },
  {
   "cell_type": "markdown",
   "metadata": {},
   "source": [
    "\\----------------------------------------------------\n",
    "\n",
    "Falls nötig findest du weitere Aufgaben unter https://www.w3resource.com/python-exercises/python-conditional-statements-and-loop-exercises.php"
   ]
  },
  {
   "cell_type": "markdown",
   "metadata": {},
   "source": [
    "# Numpy\n",
    "Bearbeite die Aufgaben 4,8,9,10 unter https://www.w3resource.com/python-exercises/numpy/index.php."
   ]
  }
 ],
 "metadata": {
  "kernelspec": {
   "display_name": "Python 3",
   "language": "python",
   "name": "python3"
  },
  "language_info": {
   "codemirror_mode": {
    "name": "ipython",
    "version": 3
   },
   "file_extension": ".py",
   "mimetype": "text/x-python",
   "name": "python",
   "nbconvert_exporter": "python",
   "pygments_lexer": "ipython3",
   "version": "3.6.4"
  },
  "varInspector": {
   "cols": {
    "lenName": 16,
    "lenType": 16,
    "lenVar": 40
   },
   "kernels_config": {
    "python": {
     "delete_cmd_postfix": "",
     "delete_cmd_prefix": "del ",
     "library": "var_list.py",
     "varRefreshCmd": "print(var_dic_list())"
    },
    "r": {
     "delete_cmd_postfix": ") ",
     "delete_cmd_prefix": "rm(",
     "library": "var_list.r",
     "varRefreshCmd": "cat(var_dic_list()) "
    }
   },
   "types_to_exclude": [
    "module",
    "function",
    "builtin_function_or_method",
    "instance",
    "_Feature"
   ],
   "window_display": false
  }
 },
 "nbformat": 4,
 "nbformat_minor": 2
}
